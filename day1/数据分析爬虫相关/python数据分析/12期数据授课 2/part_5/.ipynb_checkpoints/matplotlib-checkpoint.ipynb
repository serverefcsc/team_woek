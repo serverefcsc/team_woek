{
 "cells": [
  {
   "cell_type": "markdown",
   "metadata": {
    "collapsed": true
   },
   "source": [
    "# matplotlib"
   ]
  },
  {
   "cell_type": "markdown",
   "metadata": {},
   "source": [
    "![](matplotlib图像组成.png)\n"
   ]
  },
  {
   "cell_type": "code",
   "execution_count": 1,
   "metadata": {
    "collapsed": true
   },
   "outputs": [],
   "source": [
    "import numpy as np\n",
    "import pandas as pd\n",
    "import matplotlib.pyplot as plt\n",
    "from pandas import Series,DataFrame\n",
    "\n",
    "%matplotlib inline"
   ]
  },
  {
   "cell_type": "markdown",
   "metadata": {},
   "source": [
    "### 包含单条曲线的图"
   ]
  },
  {
   "cell_type": "markdown",
   "metadata": {},
   "source": [
    "- 注意：y,x轴的值必须为数字"
   ]
  },
  {
   "cell_type": "code",
   "execution_count": null,
   "metadata": {
    "collapsed": true
   },
   "outputs": [],
   "source": []
  },
  {
   "cell_type": "code",
   "execution_count": null,
   "metadata": {
    "collapsed": true
   },
   "outputs": [],
   "source": []
  },
  {
   "cell_type": "markdown",
   "metadata": {},
   "source": [
    "- 绘制抛物线"
   ]
  },
  {
   "cell_type": "code",
   "execution_count": null,
   "metadata": {
    "collapsed": true
   },
   "outputs": [],
   "source": []
  },
  {
   "cell_type": "markdown",
   "metadata": {},
   "source": [
    "- 绘制正弦曲线图"
   ]
  },
  {
   "cell_type": "code",
   "execution_count": null,
   "metadata": {
    "collapsed": true
   },
   "outputs": [],
   "source": []
  },
  {
   "cell_type": "markdown",
   "metadata": {},
   "source": [
    "### 包含多个曲线的图"
   ]
  },
  {
   "cell_type": "markdown",
   "metadata": {},
   "source": [
    "1、连续调用多次plot函数"
   ]
  },
  {
   "cell_type": "code",
   "execution_count": null,
   "metadata": {
    "collapsed": true
   },
   "outputs": [],
   "source": []
  },
  {
   "cell_type": "markdown",
   "metadata": {},
   "source": [
    "2、也可以在一个plot函数中传入多对X,Y值，在一个图中绘制多个曲线"
   ]
  },
  {
   "cell_type": "code",
   "execution_count": null,
   "metadata": {
    "collapsed": true
   },
   "outputs": [],
   "source": []
  },
  {
   "cell_type": "markdown",
   "metadata": {},
   "source": [
    "### 将多个曲线图绘制在一个table区域中：对象形式创建表图\n",
    "- a=plt.subplot（row,col,loc） 创建曲线图\n",
    "- a.plot(x,y) 绘制曲线图"
   ]
  },
  {
   "cell_type": "code",
   "execution_count": null,
   "metadata": {
    "collapsed": true
   },
   "outputs": [],
   "source": []
  },
  {
   "cell_type": "markdown",
   "metadata": {},
   "source": [
    "### 网格线   plt.gride(XXX)"
   ]
  },
  {
   "cell_type": "markdown",
   "metadata": {},
   "source": [
    "参数：\n",
    "    - axis\n",
    "    - color:支持十六进制颜色\n",
    "    - linestyle: --  -.  :\n",
    "    - alpha"
   ]
  },
  {
   "cell_type": "markdown",
   "metadata": {},
   "source": [
    "- 绘制一个正弦曲线图，并设置网格"
   ]
  },
  {
   "cell_type": "code",
   "execution_count": null,
   "metadata": {
    "collapsed": true,
    "scrolled": true
   },
   "outputs": [],
   "source": []
  },
  {
   "cell_type": "markdown",
   "metadata": {},
   "source": [
    "- 使用对象形式设置网格"
   ]
  },
  {
   "cell_type": "code",
   "execution_count": null,
   "metadata": {
    "collapsed": true,
    "scrolled": true
   },
   "outputs": [],
   "source": []
  },
  {
   "cell_type": "markdown",
   "metadata": {},
   "source": [
    "- 绘制一个两行两列的曲线图阵,并设置网格"
   ]
  },
  {
   "cell_type": "code",
   "execution_count": null,
   "metadata": {
    "collapsed": true
   },
   "outputs": [],
   "source": []
  },
  {
   "cell_type": "markdown",
   "metadata": {},
   "source": [
    "### 坐标轴界限"
   ]
  },
  {
   "cell_type": "markdown",
   "metadata": {},
   "source": [
    "#### axis方法:设置x，y轴刻度值的范围\n",
    "plt.axis([xmin,xmax,ymin,ymax])"
   ]
  },
  {
   "cell_type": "code",
   "execution_count": null,
   "metadata": {
    "collapsed": true,
    "scrolled": true
   },
   "outputs": [],
   "source": []
  },
  {
   "cell_type": "markdown",
   "metadata": {},
   "source": [
    "##### plt.axis('off') \n",
    " \n",
    "关闭坐标轴"
   ]
  },
  {
   "cell_type": "code",
   "execution_count": null,
   "metadata": {
    "collapsed": true,
    "scrolled": true
   },
   "outputs": [],
   "source": []
  },
  {
   "cell_type": "markdown",
   "metadata": {},
   "source": [
    "##### 设置画布比例：plt.figure(figsize=(a,b)) a:x刻度比例   b：y刻度比例  （2:1）表示x刻度显示为y刻度显示的2倍"
   ]
  },
  {
   "cell_type": "code",
   "execution_count": null,
   "metadata": {
    "collapsed": true
   },
   "outputs": [],
   "source": []
  },
  {
   "cell_type": "markdown",
   "metadata": {},
   "source": [
    "### 坐标轴标签\n",
    "- s 标签内容\n",
    "- color 标签颜色\n",
    "- fontsize 字体大小\n",
    "- rotation 旋转角度"
   ]
  },
  {
   "cell_type": "markdown",
   "metadata": {},
   "source": [
    "- plt的xlabel方法和ylabel方法  title方法"
   ]
  },
  {
   "cell_type": "code",
   "execution_count": null,
   "metadata": {
    "collapsed": true
   },
   "outputs": [],
   "source": []
  },
  {
   "cell_type": "code",
   "execution_count": null,
   "metadata": {
    "collapsed": true,
    "scrolled": true
   },
   "outputs": [],
   "source": []
  },
  {
   "cell_type": "markdown",
   "metadata": {},
   "source": [
    "- 对象方法set_xlabel/ylabel()"
   ]
  },
  {
   "cell_type": "code",
   "execution_count": null,
   "metadata": {
    "collapsed": true
   },
   "outputs": [],
   "source": []
  },
  {
   "cell_type": "markdown",
   "metadata": {},
   "source": [
    "### 图例"
   ]
  },
  {
   "cell_type": "markdown",
   "metadata": {},
   "source": [
    "#### legend方法\n",
    "\n",
    "两种传参方法：\n",
    "- 分别在plot函数中增加label参数,再调用plt.legend()方法显示\n",
    "- 直接在legend方法中传入字符串列表\n",
    "![](3.png)\n"
   ]
  },
  {
   "cell_type": "code",
   "execution_count": null,
   "metadata": {
    "collapsed": true
   },
   "outputs": [],
   "source": []
  },
  {
   "cell_type": "markdown",
   "metadata": {
    "collapsed": true
   },
   "source": [
    "### legend的参数\n",
    "    - loc参数\n",
    "\n",
    "- loc参数用于设置图例标签的位置，一般在legend函数内\n",
    "- matplotlib已经预定义好几种数字表示的位置"
   ]
  },
  {
   "cell_type": "code",
   "execution_count": null,
   "metadata": {
    "collapsed": true
   },
   "outputs": [],
   "source": []
  },
  {
   "cell_type": "markdown",
   "metadata": {
    "collapsed": true
   },
   "source": [
    "| 字符串       | 数值      | 字符串   |  数值 |\n",
    "| :-------------: |:-----------:| :-----:|  :-----:|\n",
    "| best        |  0        | center left   |   6 |\n",
    "| upper right    | 1        | center right  |   7  |\n",
    "| upper left    |  2        | lower center  |   8  |\n",
    "| lower left    |  3        | upper center  |   9 |\n",
    "| lower right   |  4        | center      |   10 |\n",
    "| right       |  5        |"
   ]
  },
  {
   "cell_type": "markdown",
   "metadata": {},
   "source": [
    "    - ncol参数\n",
    "ncol控制图例中有几列,在legend中设置ncol"
   ]
  },
  {
   "cell_type": "code",
   "execution_count": null,
   "metadata": {
    "collapsed": true
   },
   "outputs": [],
   "source": []
  },
  {
   "cell_type": "markdown",
   "metadata": {},
   "source": [
    "### 保存图片"
   ]
  },
  {
   "cell_type": "markdown",
   "metadata": {},
   "source": [
    "### 使用figure对象的savefig函数来保存图片\n",
    "fig = plt.figure()---必须放置在绘图操作之前\n",
    "\n",
    "figure.savefig的参数选项\n",
    "+ filename  \n",
    "含有文件路径的字符串或Python的文件型对象。图像格式由文件扩展名推断得出，例如，.pdf推断出PDF，.png推断出PNG\n",
    "（“png”、“pdf”、“svg”、“ps”、“eps”……）\n",
    "+ dpi  \n",
    "图像分辨率（每英寸点数），默认为100\n",
    "+ facecolor ，打开保存图片查看 \n",
    "图像的背景色，默认为“w”（白色） "
   ]
  },
  {
   "cell_type": "code",
   "execution_count": null,
   "metadata": {
    "collapsed": true
   },
   "outputs": [],
   "source": []
  },
  {
   "cell_type": "markdown",
   "metadata": {
    "collapsed": true
   },
   "source": [
    "### 设置plot的风格和样式\n",
    "plot语句中支持除X,Y以外的参数，以字符串形式存在，来控制颜色、线型、点型等要素，语法形式为：  \n",
    "plt.plot(X, Y, 'format', ...) "
   ]
  },
  {
   "cell_type": "markdown",
   "metadata": {},
   "source": [
    "#### 颜色\n",
    "参数color或c"
   ]
  },
  {
   "cell_type": "code",
   "execution_count": null,
   "metadata": {
    "collapsed": true,
    "scrolled": true
   },
   "outputs": [],
   "source": []
  },
  {
   "cell_type": "markdown",
   "metadata": {
    "collapsed": true
   },
   "source": [
    "##### 颜色值的方式\n",
    "+ 别名\n",
    "    + color='r'\n",
    "    \n",
    "    \n",
    "    \n",
    "+ 合法的HTML颜色名\n",
    "    + color = 'red'\n",
    "\n",
    "| 颜色       | 别名      | HTML颜色名  | 颜色   |  别名 |HTML颜色名|\n",
    "| :-------------: |:---------:|:-----------:| :------:|  :-----:| :-----:|\n",
    "| 蓝色        | b       | blue      | 绿色   |  g   |  green  |\n",
    "| 红色        | r       | red      | 黄色    |  y   |  yellow |\n",
    "| 青色        | c       | cyan      | 黑色   |  k   |  black  |\n",
    "| 洋红色      | m        | magenta    | 白色   |  w   |  white  |\n",
    "\n",
    "\n",
    "\n",
    "\n",
    "\n",
    "\n",
    "+ HTML十六进制字符串\n",
    "    + color = '#eeefff'       \n",
    "\n",
    "\n",
    "\n",
    "\n",
    "+ 归一化到[0, 1]的RGB元组\n",
    "    + color = (0.3, 0.3, 0.4)\n"
   ]
  },
  {
   "cell_type": "markdown",
   "metadata": {},
   "source": [
    "##### 透明度\n",
    "alpha参数 "
   ]
  },
  {
   "cell_type": "code",
   "execution_count": null,
   "metadata": {
    "collapsed": true
   },
   "outputs": [],
   "source": []
  },
  {
   "cell_type": "markdown",
   "metadata": {
    "collapsed": true
   },
   "source": [
    "#### 线型\n",
    "参数linestyle或ls"
   ]
  },
  {
   "cell_type": "markdown",
   "metadata": {},
   "source": [
    "| 线条风格     | 描述      | 线条风格 |  描述 |\n",
    "| :-------------: |:------------:| :----:|  :-----:|\n",
    "| '-'        | 实线     | ':'     |  虚线 |\n",
    "| '--'       | 破折线    | 'steps'  |  阶梯线 |\n",
    "| '-.'       | 点划线    | 'None' / '，' |  什么都不画 |"
   ]
  },
  {
   "cell_type": "markdown",
   "metadata": {},
   "source": [
    "##### 线宽\n",
    "linewidth或lw参数"
   ]
  },
  {
   "cell_type": "code",
   "execution_count": null,
   "metadata": {
    "collapsed": true
   },
   "outputs": [],
   "source": []
  },
  {
   "cell_type": "markdown",
   "metadata": {},
   "source": [
    "#### 点型\n",
    "- marker 设置点形\n",
    "- markersize 设置点形大小\n",
    "\n",
    "| 标记        | 描述       | 标记   |  描述 |\n",
    "| :-------------: |:-----------:| :----:|  :-----:|\n",
    "| 's'         | 正方形   | 'p'   | 五边形     | \n",
    "| 'h'         | 六边形1    | 'H'     | 六边形2    |\n",
    "| '8'         | 八边形     | \n",
    "\n",
    "| 标记        | 描述       | 标记   |  描述 |\n",
    "| :-------------: |:-----------:| :----:|  :-----:|\n",
    "| '.'     |  点 | 'x'   | X   |\n",
    "| '\\*'    |  星号  | '+'         | 加号       |\n",
    "| ','         | 像素       |\n",
    "\n",
    "\n",
    "| 标记        | 描述       | 标记   |  描述 |\n",
    "| :-------------: |:-----------:| :----:|  :-----:|\n",
    "| 'o'         | 圆圈      | 'D'         | 菱形      |\n",
    "| 'd'    |  小菱形  |'','None',' ',None| 无       | \n",
    "\n",
    "| 标记        | 描述       | 标记   |  描述 |\n",
    "| :-------------: |:-----------:| :----:|  :-----:|\n",
    "| '1'         | 一角朝下的三脚架      | '3'     |  一角朝左的三脚架 |\n",
    "| '2'         | 一角朝上的三脚架      | '4'     |  一角朝右的三脚架 |"
   ]
  },
  {
   "cell_type": "code",
   "execution_count": null,
   "metadata": {
    "collapsed": true,
    "scrolled": true
   },
   "outputs": [],
   "source": []
  },
  {
   "cell_type": "code",
   "execution_count": 85,
   "metadata": {
    "collapsed": true
   },
   "outputs": [],
   "source": [
    "# 绘制线      plt.plot(x1,y1,x2,y2)\n",
    "# 网格线      plt.grid(True)  axes.grid(color,ls,lw,alpha)\n",
    "# 获取坐标系  plt.subplot(n1,n2,n3)\n",
    "# 坐标轴标签  plt.xlabel() plt.ylabel()\n",
    "# 坐标系标题  plt.title()\n",
    "# 图例        plt.legend([names],ncol=2,loc=1)  plt.plot(label='name')\n",
    "# 线风格      --  -. : None  step\n",
    "# 图片保存    figure.savefig()\n",
    "# 点的设置    marker markersize markerfacecolor markeredgecolor\\width\n",
    "# 坐标轴刻度  plt.xticks(刻度列表，刻度标签列表) plt.yticks()\n",
    "#             axes.set_xticks(刻度列表) axes.set_xticklabels(刻度标签列表)\n"
   ]
  },
  {
   "cell_type": "markdown",
   "metadata": {},
   "source": [
    "## 三、2D图形"
   ]
  },
  {
   "cell_type": "markdown",
   "metadata": {},
   "source": [
    "\n",
    "\n",
    "\n",
    "\n",
    "\n",
    "\n",
    "### 直方图\n",
    "- 是一个特殊的柱状图，又叫做密度图。\n",
    "\n",
    "【直方图的参数只有一个x！！！不像条形图需要传入x,y】\n",
    "\n",
    "plt.hist()的参数\n",
    "+ bins  \n",
    "直方图的柱数，可选项，默认为10\n",
    "+ color  \n",
    "指定直方图的颜色。可以是单一颜色值或颜色的序列。如果指定了多个数据集合,例如DataFrame对象，颜色序列将会设置为相同的顺序。如果未指定，将会使用一个默认的线条颜色\n",
    "+ orientation  \n",
    "通过设置orientation为horizontal创建水平直方图。默认值为vertical"
   ]
  },
  {
   "cell_type": "code",
   "execution_count": null,
   "metadata": {
    "collapsed": true,
    "scrolled": true
   },
   "outputs": [],
   "source": []
  },
  {
   "cell_type": "markdown",
   "metadata": {},
   "source": [
    "返回值 ：\n",
    "\n",
    "1: 直方图向量，是否归一化由参数normed设定\n",
    "\n",
    "2: 返回各个bin的区间范围\n",
    "\n",
    "3: 返回每个bin里面包含的数据，是一个list"
   ]
  },
  {
   "cell_type": "markdown",
   "metadata": {},
   "source": [
    "### 条形图：plt.bar()\n",
    "- 参数：第一个参数是索引。第二个参数是数据值。第三个参数是条形的宽度\n",
    "\n",
    "-【条形图有两个参数x,y】\n",
    "\n",
    "- width 纵向设置条形宽度\n",
    "- height 横向设置条形高度\n",
    "\n",
    "bar()、barh()"
   ]
  },
  {
   "cell_type": "code",
   "execution_count": null,
   "metadata": {
    "collapsed": true
   },
   "outputs": [],
   "source": []
  },
  {
   "cell_type": "markdown",
   "metadata": {},
   "source": [
    "#### 水平条形图\n",
    "barh()"
   ]
  },
  {
   "cell_type": "code",
   "execution_count": null,
   "metadata": {
    "collapsed": true
   },
   "outputs": [],
   "source": []
  },
  {
   "cell_type": "markdown",
   "metadata": {},
   "source": [
    "### 饼图\n",
    "\n",
    "【饼图也只有一个参数x】\n",
    "\n",
    "pie()  \n",
    "饼图适合展示各部分占总体的比例，条形图适合比较各部分的大小"
   ]
  },
  {
   "cell_type": "markdown",
   "metadata": {},
   "source": [
    "普通各部分占满饼图"
   ]
  },
  {
   "cell_type": "code",
   "execution_count": null,
   "metadata": {
    "collapsed": true
   },
   "outputs": [],
   "source": []
  },
  {
   "cell_type": "markdown",
   "metadata": {},
   "source": [
    "普通未占满饼图：小数/比例"
   ]
  },
  {
   "cell_type": "code",
   "execution_count": null,
   "metadata": {
    "collapsed": true
   },
   "outputs": [],
   "source": []
  },
  {
   "cell_type": "markdown",
   "metadata": {},
   "source": [
    "饼图阴影、分裂等属性设置\n",
    "#labels参数设置每一块的标签；\n",
    "#labeldistance参数设置标签距离圆心的距离（比例值）\n",
    "#autopct参数设置比例值小数保留位(%.3f%%)；\n",
    "#pctdistance参数设置比例值文字距离圆心的距离\n",
    "#explode参数设置每一块顶点距圆心的长度（比例值,列表）；\n",
    "#colors参数设置每一块的颜色（列表）；\n",
    "#shadow参数为布尔值，设置是否绘制阴影\n",
    "#startangle参数设置饼图起始角度"
   ]
  },
  {
   "cell_type": "code",
   "execution_count": 155,
   "metadata": {
    "collapsed": true
   },
   "outputs": [
    {
     "data": {
      "text/plain": [
       "([<matplotlib.patches.Wedge at 0x1194b6350>,\n",
       "  <matplotlib.patches.Wedge at 0x1194b6cd0>,\n",
       "  <matplotlib.patches.Wedge at 0x1194c4690>,\n",
       "  <matplotlib.patches.Wedge at 0x1194d2050>],\n",
       " [<matplotlib.text.Text at 0x1190b8250>,\n",
       "  <matplotlib.text.Text at 0x1194c4310>,\n",
       "  <matplotlib.text.Text at 0x1194c4c90>,\n",
       "  <matplotlib.text.Text at 0x1194d2650>])"
      ]
     },
     "execution_count": 155,
     "metadata": {},
     "output_type": "execute_result"
    },
    {
     "data": {
      "image/png": "[encoded data removed]",
      "text/plain": [
       "<matplotlib.figure.Figure at 0x1192891d0>"
      ]
     },
     "metadata": {},
     "output_type": "display_data"
    }
   ],
   "source": [
    "arr=[11,22,31,15]\n",
    "plt.pie(arr,labels=['a','b','c','d'])"
   ]
  },
  {
   "cell_type": "code",
   "execution_count": 159,
   "metadata": {
    "collapsed": true
   },
   "outputs": [
    {
     "data": {
      "text/plain": [
       "([<matplotlib.patches.Wedge at 0x119855950>,\n",
       "  <matplotlib.patches.Wedge at 0x119930310>,\n",
       "  <matplotlib.patches.Wedge at 0x119930c90>,\n",
       "  <matplotlib.patches.Wedge at 0x11993c650>],\n",
       " [<matplotlib.text.Text at 0x1196c5210>,\n",
       "  <matplotlib.text.Text at 0x119930910>,\n",
       "  <matplotlib.text.Text at 0x11993c2d0>,\n",
       "  <matplotlib.text.Text at 0x11993cc50>])"
      ]
     },
     "execution_count": 159,
     "metadata": {},
     "output_type": "execute_result"
    },
    {
     "data": {
      "image/png": "[encoded data removed]",
      "text/plain": [
       "<matplotlib.figure.Figure at 0x116ce27d0>"
      ]
     },
     "metadata": {},
     "output_type": "display_data"
    }
   ],
   "source": [
    "#labeldistance参数设置标签距离圆心的距离（比例值）\n",
    "arr=[11,22,31,15]\n",
    "plt.pie(arr,labels=['a','b','c','d'],labeldistance=0.3)"
   ]
  },
  {
   "cell_type": "code",
   "execution_count": 162,
   "metadata": {
    "collapsed": true
   },
   "outputs": [
    {
     "data": {
      "text/plain": [
       "([<matplotlib.patches.Wedge at 0x119b9e310>,\n",
       "  <matplotlib.patches.Wedge at 0x119bae110>,\n",
       "  <matplotlib.patches.Wedge at 0x119baeed0>,\n",
       "  <matplotlib.patches.Wedge at 0x119bb9cd0>],\n",
       " [<matplotlib.text.Text at 0x119720290>,\n",
       "  <matplotlib.text.Text at 0x119bae710>,\n",
       "  <matplotlib.text.Text at 0x119bb9510>,\n",
       "  <matplotlib.text.Text at 0x119bc6310>],\n",
       " [<matplotlib.text.Text at 0x119b9ec90>,\n",
       "  <matplotlib.text.Text at 0x119baea90>,\n",
       "  <matplotlib.text.Text at 0x119bb9890>,\n",
       "  <matplotlib.text.Text at 0x119bc6690>])"
      ]
     },
     "execution_count": 162,
     "metadata": {},
     "output_type": "execute_result"
    },
    {
     "data": {
      "image/png": "[encoded data removed]",
      "text/plain": [
       "<matplotlib.figure.Figure at 0x119966190>"
      ]
     },
     "metadata": {},
     "output_type": "display_data"
    }
   ],
   "source": [
    "#autopct参数设置比例值小数保留位(%.3f%%)；\n",
    "arr=[11,22,31,15]\n",
    "plt.pie(arr,labels=['a','b','c','d'],labeldistance=0.3,autopct='%.6f%%')"
   ]
  },
  {
   "cell_type": "code",
   "execution_count": 165,
   "metadata": {
    "collapsed": true
   },
   "outputs": [
    {
     "data": {
      "text/plain": [
       "([<matplotlib.patches.Wedge at 0x119f504d0>,\n",
       "  <matplotlib.patches.Wedge at 0x119f5e350>,\n",
       "  <matplotlib.patches.Wedge at 0x119f6b210>,\n",
       "  <matplotlib.patches.Wedge at 0x119f760d0>],\n",
       " [<matplotlib.text.Text at 0x11951ad50>,\n",
       "  <matplotlib.text.Text at 0x119f5ed90>,\n",
       "  <matplotlib.text.Text at 0x119f6bc50>,\n",
       "  <matplotlib.text.Text at 0x119f76b10>])"
      ]
     },
     "execution_count": 165,
     "metadata": {},
     "output_type": "execute_result"
    },
    {
     "data": {
      "image/png": "[encoded data removed]",
      "text/plain": [
       "<matplotlib.figure.Figure at 0x119d220d0>"
      ]
     },
     "metadata": {},
     "output_type": "display_data"
    }
   ],
   "source": [
    "##explode参数设置每一块顶点距圆心的长度（比例值,列表）；\n",
    "arr=[11,22,31,15]\n",
    "plt.pie(arr,labels=['a','b','c','d'],labeldistance=0.3,shadow=True,explode=[0.2,0.3,0.2,0.4])"
   ]
  },
  {
   "cell_type": "code",
   "execution_count": 168,
   "metadata": {
    "collapsed": true
   },
   "outputs": [
    {
     "data": {
      "text/plain": [
       "([<matplotlib.patches.Wedge at 0x11a3011d0>,\n",
       "  <matplotlib.patches.Wedge at 0x11a301b50>,\n",
       "  <matplotlib.patches.Wedge at 0x11a30f510>,\n",
       "  <matplotlib.patches.Wedge at 0x11a30fe90>],\n",
       " [<matplotlib.text.Text at 0x119bfcd10>,\n",
       "  <matplotlib.text.Text at 0x11a30f190>,\n",
       "  <matplotlib.text.Text at 0x11a30fb10>,\n",
       "  <matplotlib.text.Text at 0x11a31b4d0>])"
      ]
     },
     "execution_count": 168,
     "metadata": {},
     "output_type": "execute_result"
    },
    {
     "data": {
      "image/png": "[encoded data removed]",
      "text/plain": [
       "<matplotlib.figure.Figure at 0x11a0c8a90>"
      ]
     },
     "metadata": {},
     "output_type": "display_data"
    }
   ],
   "source": [
    "#startangle参数设置饼图起始角度\n",
    "arr=[11,22,31,15]\n",
    "plt.pie(arr,labels=['a','b','c','d'],startangle=50)"
   ]
  },
  {
   "cell_type": "markdown",
   "metadata": {
    "collapsed": true
   },
   "source": [
    "%m.nf\n",
    "m 占位\n",
    "n 小数点后保留几位\n",
    "f 是以float格式输出"
   ]
  },
  {
   "cell_type": "code",
   "execution_count": null,
   "metadata": {
    "collapsed": true
   },
   "outputs": [],
   "source": []
  },
  {
   "cell_type": "markdown",
   "metadata": {},
   "source": [
    "### 散点图：因变量随自变量而变化的大致趋势\n",
    "\n",
    "【散点图需要两个参数x,y，但此时x不是表示x轴的刻度，而是每个点的横坐标！】\n",
    "\n",
    "scatter()  \n",
    "![](10.png)"
   ]
  },
  {
   "cell_type": "code",
   "execution_count": null,
   "metadata": {
    "collapsed": true
   },
   "outputs": [],
   "source": []
  },
  {
   "cell_type": "markdown",
   "metadata": {},
   "source": [
    "plt.scatter(x,y,marker='d',c=\"rbgy\") 设置不同的散点颜色"
   ]
  },
  {
   "cell_type": "code",
   "execution_count": null,
   "metadata": {
    "collapsed": true
   },
   "outputs": [],
   "source": []
  },
  {
   "cell_type": "code",
   "execution_count": null,
   "metadata": {
    "collapsed": true
   },
   "outputs": [],
   "source": []
  },
  {
   "cell_type": "code",
   "execution_count": null,
   "metadata": {
    "collapsed": true
   },
   "outputs": [],
   "source": []
  }
 ],
 "metadata": {
  "kernelspec": {
   "display_name": "Python 3",
   "language": "python",
   "name": "python3"
  },
  "language_info": {
   "codemirror_mode": {
    "name": "ipython",
    "version": 3
   },
   "file_extension": ".py",
   "mimetype": "text/x-python",
   "name": "python",
   "nbconvert_exporter": "python",
   "pygments_lexer": "ipython3",
   "version": "3.6.3"
  }
 },
 "nbformat": 4,
 "nbformat_minor": 1
}
